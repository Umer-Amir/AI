{
 "cells": [
  {
   "cell_type": "code",
   "execution_count": 21,
   "metadata": {},
   "outputs": [
    {
     "name": "stdout",
     "output_type": "stream",
     "text": [
      "Enter a number: \n",
      "It is a number\n",
      "Enter another number: \n",
      "It is a number\n",
      "The sum of the two numbers is:  10\n",
      "The difference of the two numbers is:  2\n",
      "The product of the two numbers is:  24\n",
      "The division of the two numbers is:  1.5\n",
      "The quotient of the two numbers is:  1 with a remainder of 2\n"
     ]
    }
   ],
   "source": [
    "while True:\n",
    "    print(\"Enter a number: \")\n",
    "    a= input()\n",
    "    if a.isnumeric():\n",
    "        print('It is a number')\n",
    "        break\n",
    "    else:\n",
    "        print('It is not a number')\n",
    "\n",
    "while True:\n",
    "    print(\"Enter another number: \")\n",
    "    b= input()\n",
    "    if b.isnumeric():\n",
    "        print('It is a number')\n",
    "        break\n",
    "    else:\n",
    "        print('It is not a number')\n",
    "\n",
    "print('The sum of the two numbers is: ', int(a)+int(b)) #Addition\n",
    "print('The difference of the two numbers is: ', int(a)-int(b)) #Subtraction\n",
    "print('The product of the two numbers is: ', int(a)*int(b)) #Multiplication\n",
    "print('The division of the two numbers is: ', int(a)/int(b)) #Division\n",
    "\n",
    "if int(a)%int(b)==0:\n",
    "    print('The quotient of the two numbers is: ', int(a)//int(b))\n",
    "else:\n",
    "    print('The quotient of the two numbers is: ', int(a)//int(b), 'with a remainder of', int(a)%int(b))"
   ]
  },
  {
   "cell_type": "code",
   "execution_count": 49,
   "metadata": {},
   "outputs": [
    {
     "name": "stdout",
     "output_type": "stream",
     "text": [
      "qwer\n",
      "[<bound method Kernel.raw_input of <ipykernel.ipkernel.IPythonKernel object at 0x0000023DB019FCD0>>, <bound method Kernel.raw_input of <ipykernel.ipkernel.IPythonKernel object at 0x0000023DB019FCD0>>, <bound method Kernel.raw_input of <ipykernel.ipkernel.IPythonKernel object at 0x0000023DB019FCD0>>, <bound method Kernel.raw_input of <ipykernel.ipkernel.IPythonKernel object at 0x0000023DB019FCD0>>]\n"
     ]
    }
   ],
   "source": [
    "#slicing\n",
    "\n",
    "#with strings\n",
    "name = input('Enter your name: ')\n",
    "\n",
    "print(name[0:4])\n",
    "\n",
    "#with arrays\n",
    "arr = [1,2,3,4,5,6,7,8,9,10]\n",
    "\n",
    "# for(i=0; i<10; i++){\n",
    "#     input('Input ' + i + ' numbers:')\n",
    "# }\n",
    "\n",
    "for i in range(10):\n",
    "    input('Input ' + str(10-i) + ' numbers:')\n",
    "    # arr.append(i)\n",
    "    arr[i] = input\n",
    "\n",
    "print(arr[1:5])"
   ]
  },
  {
   "cell_type": "code",
   "execution_count": 61,
   "metadata": {},
   "outputs": [
    {
     "name": "stdout",
     "output_type": "stream",
     "text": [
      "Length of list: 6\n",
      "Umer\n",
      "3.5\n",
      "823759823\n"
     ]
    }
   ],
   "source": [
    "# age = int(input('Enter your age'))\n",
    "# if(age>18):\n",
    "#     print('You are an adult')\n",
    "# elif(age<18):\n",
    "#     print('You are a minor')\n",
    "# else:\n",
    "#     print('You are a teenager')\n",
    "\n",
    "l=[2,3,'Umer',3.5,823759823,\"AMIR\"]\n",
    "\n",
    "# for i in l:\n",
    "#     print(i)\n",
    "sublist=l[2:5]\n",
    "print('Length of list:', len(l))\n",
    "for i in sublist:\n",
    "    print(i)\n"
   ]
  },
  {
   "cell_type": "code",
   "execution_count": 63,
   "metadata": {},
   "outputs": [
    {
     "name": "stdout",
     "output_type": "stream",
     "text": [
      "2\n",
      "4\n",
      "Umer\n",
      "2.4\n",
      "31513513\n",
      "AMIR\n",
      "Umer\n",
      "3.5\n",
      "823759823\n"
     ]
    }
   ],
   "source": [
    "mytuple = (2,4,\"Umer\", 2.4, 31513513, \"AMIR\")\n",
    "\n",
    "for i in mytuple:\n",
    "    print(i)\n",
    "\n",
    "sublist = l[2:5]\n",
    "\n",
    "for i in sublist:\n",
    "    print(i)"
   ]
  },
  {
   "cell_type": "code",
   "execution_count": 70,
   "metadata": {},
   "outputs": [
    {
     "name": "stdout",
     "output_type": "stream",
     "text": [
      "Enter an even number: \n",
      "Enter an even number: \n",
      "Enter an even number: \n",
      "Enter an even number: \n",
      "Enter an even number: \n",
      "Enter an even number: \n",
      "2\n",
      "4\n",
      "6\n",
      "8\n",
      "10\n",
      "12\n",
      "14\n",
      "16\n",
      "18\n",
      "20\n"
     ]
    }
   ],
   "source": [
    "L =[1,2,3,4,5,6,7,8,9,10]\n",
    "Table = []\n",
    "\n",
    "#take user input\n",
    "while True:\n",
    "    print(\"Enter an even number: \")\n",
    "    Number = int(input('Enter an even number: '))\n",
    "    if (Number%2==0):\n",
    "        break\n",
    "\n",
    "\n",
    "for i in L:\n",
    "    Table.append(i*int(Number))\n",
    "\n",
    "for i in Table:\n",
    "    if (i%2==0):\n",
    "        print(i)\n"
   ]
  },
  {
   "cell_type": "code",
   "execution_count": null,
   "metadata": {},
   "outputs": [],
   "source": []
  },
  {
   "cell_type": "markdown",
   "metadata": {},
   "source": [
    "* Array\n",
    "    * ajsdalsjkhd"
   ]
  },
  {
   "cell_type": "markdown",
   "metadata": {},
   "source": [
    "### Dictionary\n",
    "    * Collection of keys"
   ]
  },
  {
   "cell_type": "code",
   "execution_count": 77,
   "metadata": {},
   "outputs": [
    {
     "name": "stdout",
     "output_type": "stream",
     "text": [
      "dict_values(['Umer', 20, 'Male'])\n",
      "dict_keys(['name', 'age', 'gender'])\n",
      "Male\n",
      "Enter the following attributes respectively: \n",
      "dict_keys(['name', 'age', 'gender'])\n"
     ]
    }
   ],
   "source": [
    "person = {\n",
    "    \"name\": \"Umer\",\n",
    "    \"age\": 20,\n",
    "    \"gender\": \"Male\"\n",
    "}\n",
    "print(person.values())\n",
    "print(person.keys())\n",
    "print(person[\"gender\"])\n",
    "\n",
    "Student = {\n",
    "    \"Name\": \"\",\n",
    "    \"Age\": \"\",\n",
    "    \"Gender\": \"\",\n",
    "    \"University\": \"\",\n",
    "    \"Program\": \"\",\n",
    "    \"Year\": \"\"\n",
    "}\n",
    "\n",
    "print(\"Enter the following attributes respectively: \")\n",
    "\n",
    "print(person.keys())\n",
    "\n",
    "#TAKE USER INPUT FOR THE DICTIONARY\n",
    "for i in Student:\n",
    "    Student[i] = input(i)\n",
    "\n",
    "for i in Student:\n",
    "    print(i, Student[i])"
   ]
  }
 ],
 "metadata": {
  "kernelspec": {
   "display_name": "base",
   "language": "python",
   "name": "python3"
  },
  "language_info": {
   "codemirror_mode": {
    "name": "ipython",
    "version": 3
   },
   "file_extension": ".py",
   "mimetype": "text/x-python",
   "name": "python",
   "nbconvert_exporter": "python",
   "pygments_lexer": "ipython3",
   "version": "3.11.8"
  }
 },
 "nbformat": 4,
 "nbformat_minor": 2
}
